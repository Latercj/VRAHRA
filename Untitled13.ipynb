{
  "nbformat": 4,
  "nbformat_minor": 0,
  "metadata": {
    "colab": {
      "provenance": [],
      "authorship_tag": "ABX9TyOkLGeioMYSS4woKradmyIj",
      "include_colab_link": true
    },
    "kernelspec": {
      "name": "python3",
      "display_name": "Python 3"
    },
    "language_info": {
      "name": "python"
    }
  },
  "cells": [
    {
      "cell_type": "markdown",
      "metadata": {
        "id": "view-in-github",
        "colab_type": "text"
      },
      "source": [
        "<a href=\"https://colab.research.google.com/github/Latercj/VRAHRA/blob/main/Untitled13.ipynb\" target=\"_parent\"><img src=\"https://colab.research.google.com/assets/colab-badge.svg\" alt=\"Open In Colab\"/></a>"
      ]
    },
    {
      "cell_type": "code",
      "execution_count": null,
      "metadata": {
        "id": "dMn994nFVBVl"
      },
      "outputs": [],
      "source": [
        "! pip install japanize_matplotlib\n",
        "!pip install streamlit pandas matplotlib seaborn scipy japanize_matplotlib\n",
        "import streamlit as st\n",
        "import pandas as pd\n",
        "import numpy as np\n",
        "import math\n",
        "math.pi\n",
        "from scipy import stats\n",
        "import seaborn as sns\n",
        "import matplotlib.pyplot as plt\n",
        "import japanize_matplotlib\n",
        "\n",
        "# statcast_data_2024.csvからデータを読み込む\n",
        "df = pd.read_csv('statcast_data_2024.csv') # ファイルを最初に読み込む\n",
        "\n",
        "# statcast_data_2024.csvから選手名リストを取得\n",
        "@st.cache_data  # データをキャッシュしてパフォーマンスを向上\n",
        "def load_pitcher_names(df): # 引数をdfに変更\n",
        "    pitchers = df['pitcher'].unique().tolist()\n",
        "    return pitchers\n",
        "\n",
        "pitchers = load_pitcher_names(df)  # dfを引数として渡す\n",
        "\n",
        "# タイトルを設定\n",
        "st.title('VRAとHRAの確率密度関数')\n",
        "\n",
        "# 選手名入力 (st.selectboxを使用)\n",
        "player_name = st.selectbox(\"選手名\", pitchers)\n",
        "\n",
        "# 選択された選手のデータのみを抽出\n",
        "df_selected = df[df['pitcher'] == player_name]\n",
        "\n",
        "# VRAとHRAを計算\n",
        "df_selected['VRA'] = -np.arctan(df_selected['vz0'] / np.sqrt(df_selected[\"vx0\"]**2 + df_selected['vy0']**2)) * (180 / np.pi)\n",
        "df_selected['HRA'] = -np.arctan(df_selected['vx0'] / df_selected['vy0']) * (180 / np.pi)\n",
        "\n",
        "# 球種と色の対応辞書\n",
        "pitch_colors = {\n",
        "    'FF': 'red',\n",
        "    'SL': 'yellow',\n",
        "    'SI': 'orange',\n",
        "    'FC': 'brown',  # Cutter\n",
        "    'ST': 'khaki',  # Sinker (Two-seam Fastball)\n",
        "    'KC': 'purple',  # Knuckle Curve\n",
        "    'CU': 'cyan',  # Curveball\n",
        "    'CH': 'green',\n",
        "    'FS': 'limegreen',  # Splitter/Forkball (using limegreen for both)\n",
        "    'FO': 'limegreen',  # Splitter/Forkball (using limegreen for both)\n",
        "    'SV': 'gray'\n",
        "}\n",
        "\n",
        "# 球種選択\n",
        "pitch_types = df['pitch_type'].unique() # dfを使うように変更\n",
        "selected_pitch_types = st.multiselect('球種を選択してください', pitch_types, pitch_types)\n",
        "\n",
        "# KDEプロットを描画\n",
        "fig, (ax1, ax2) = plt.subplots(1, 2, figsize=(12, 6))\n",
        "\n",
        "for pitch_type in selected_pitch_types:\n",
        "    vra = df_selected[df['pitch_type'] == pitch_type]['VRA'].dropna() # dfを使うように変更\n",
        "    hra = df_selected[df['pitch_type'] == pitch_type]['HRA'].dropna() # dfを使うように変更\n",
        "    color = pitch_colors.get(pitch_type, 'gray')\n",
        "\n",
        "    sns.kdeplot(vra, label=pitch_type, color=color, ax=ax1)\n",
        "    sns.kdeplot(hra, label=pitch_type, color=color, ax=ax2)\n",
        "\n",
        "ax1.set_xlabel('VRA')\n",
        "ax1.set_ylabel('確率密度')\n",
        "ax1.set_title('VRAの確率密度関数')\n",
        "ax1.legend()\n",
        "\n",
        "ax2.set_xlabel('HRA')\n",
        "ax2.set_ylabel('確率密度')\n",
        "ax2.set_title('HRAの確率密度関数')\n",
        "ax2.legend()\n",
        "\n",
        "st.pyplot(fig)"
      ]
    }
  ]
}